{
  "nbformat": 4,
  "nbformat_minor": 0,
  "metadata": {
    "colab": {
      "name": "Untitled0.ipynb",
      "version": "0.3.2",
      "provenance": [],
      "include_colab_link": true
    },
    "kernelspec": {
      "name": "python3",
      "display_name": "Python 3"
    }
  },
  "cells": [
    {
      "cell_type": "markdown",
      "metadata": {
        "id": "view-in-github",
        "colab_type": "text"
      },
      "source": [
        "<a href=\"https://colab.research.google.com/github/saindeepak/hello-world/blob/master/Untitled0.ipynb\" target=\"_parent\"><img src=\"https://colab.research.google.com/assets/colab-badge.svg\" alt=\"Open In Colab\"/></a>"
      ]
    },
    {
      "metadata": {
        "id": "W4lvhhI5AQHR",
        "colab_type": "code",
        "colab": {}
      },
      "cell_type": "code",
      "source": [
        "import pandas as pd\n",
        "url = 'https://media.githubusercontent.com/media/WillKoehrsen/Data-Analysis/master/univariate_dist/data/formatted_flights.csv'"
      ],
      "execution_count": 0,
      "outputs": []
    },
    {
      "metadata": {
        "id": "UZleSy7IAVlQ",
        "colab_type": "code",
        "colab": {}
      },
      "cell_type": "code",
      "source": [
        "dataset = pd.read_csv(url)"
      ],
      "execution_count": 0,
      "outputs": []
    },
    {
      "metadata": {
        "id": "101AwvtbAVwk",
        "colab_type": "code",
        "colab": {
          "base_uri": "https://localhost:8080/",
          "height": 359
        },
        "outputId": "ac09b894-d7fd-4373-d27b-aadb9cdef847"
      },
      "cell_type": "code",
      "source": [
        "dataset.head(10)"
      ],
      "execution_count": 8,
      "outputs": [
        {
          "output_type": "execute_result",
          "data": {
            "text/html": [
              "<div>\n",
              "<style scoped>\n",
              "    .dataframe tbody tr th:only-of-type {\n",
              "        vertical-align: middle;\n",
              "    }\n",
              "\n",
              "    .dataframe tbody tr th {\n",
              "        vertical-align: top;\n",
              "    }\n",
              "\n",
              "    .dataframe thead th {\n",
              "        text-align: right;\n",
              "    }\n",
              "</style>\n",
              "<table border=\"1\" class=\"dataframe\">\n",
              "  <thead>\n",
              "    <tr style=\"text-align: right;\">\n",
              "      <th></th>\n",
              "      <th>Unnamed: 0</th>\n",
              "      <th>arr_delay</th>\n",
              "      <th>name</th>\n",
              "    </tr>\n",
              "  </thead>\n",
              "  <tbody>\n",
              "    <tr>\n",
              "      <th>0</th>\n",
              "      <td>0</td>\n",
              "      <td>11.0</td>\n",
              "      <td>United Air Lines Inc.</td>\n",
              "    </tr>\n",
              "    <tr>\n",
              "      <th>1</th>\n",
              "      <td>1</td>\n",
              "      <td>20.0</td>\n",
              "      <td>United Air Lines Inc.</td>\n",
              "    </tr>\n",
              "    <tr>\n",
              "      <th>2</th>\n",
              "      <td>2</td>\n",
              "      <td>33.0</td>\n",
              "      <td>American Airlines Inc.</td>\n",
              "    </tr>\n",
              "    <tr>\n",
              "      <th>3</th>\n",
              "      <td>3</td>\n",
              "      <td>-18.0</td>\n",
              "      <td>JetBlue Airways</td>\n",
              "    </tr>\n",
              "    <tr>\n",
              "      <th>4</th>\n",
              "      <td>4</td>\n",
              "      <td>-25.0</td>\n",
              "      <td>Delta Air Lines Inc.</td>\n",
              "    </tr>\n",
              "    <tr>\n",
              "      <th>5</th>\n",
              "      <td>5</td>\n",
              "      <td>12.0</td>\n",
              "      <td>United Air Lines Inc.</td>\n",
              "    </tr>\n",
              "    <tr>\n",
              "      <th>6</th>\n",
              "      <td>6</td>\n",
              "      <td>19.0</td>\n",
              "      <td>JetBlue Airways</td>\n",
              "    </tr>\n",
              "    <tr>\n",
              "      <th>7</th>\n",
              "      <td>7</td>\n",
              "      <td>-14.0</td>\n",
              "      <td>ExpressJet Airlines Inc.</td>\n",
              "    </tr>\n",
              "    <tr>\n",
              "      <th>8</th>\n",
              "      <td>8</td>\n",
              "      <td>-8.0</td>\n",
              "      <td>JetBlue Airways</td>\n",
              "    </tr>\n",
              "    <tr>\n",
              "      <th>9</th>\n",
              "      <td>9</td>\n",
              "      <td>8.0</td>\n",
              "      <td>American Airlines Inc.</td>\n",
              "    </tr>\n",
              "  </tbody>\n",
              "</table>\n",
              "</div>"
            ],
            "text/plain": [
              "   Unnamed: 0  arr_delay                      name\n",
              "0           0       11.0     United Air Lines Inc.\n",
              "1           1       20.0     United Air Lines Inc.\n",
              "2           2       33.0    American Airlines Inc.\n",
              "3           3      -18.0           JetBlue Airways\n",
              "4           4      -25.0      Delta Air Lines Inc.\n",
              "5           5       12.0     United Air Lines Inc.\n",
              "6           6       19.0           JetBlue Airways\n",
              "7           7      -14.0  ExpressJet Airlines Inc.\n",
              "8           8       -8.0           JetBlue Airways\n",
              "9           9        8.0    American Airlines Inc."
            ]
          },
          "metadata": {
            "tags": []
          },
          "execution_count": 8
        }
      ]
    },
    {
      "metadata": {
        "id": "g2tbKJRJAVzd",
        "colab_type": "code",
        "colab": {}
      },
      "cell_type": "code",
      "source": [
        "import matplotlib.pyplot as plt\n",
        "import seaborn as sns"
      ],
      "execution_count": 0,
      "outputs": []
    },
    {
      "metadata": {
        "id": "IPZpLzZAIbFu",
        "colab_type": "code",
        "colab": {
          "base_uri": "https://localhost:8080/",
          "height": 517
        },
        "outputId": "7d4d9686-ded0-4b0f-dd37-0396f188618e"
      },
      "cell_type": "code",
      "source": [
        " plt.hist(dataset['arr_delay'],color = 'blue',bins = int(180/5),edgecolor = 'black')"
      ],
      "execution_count": 11,
      "outputs": [
        {
          "output_type": "execute_result",
          "data": {
            "text/plain": [
              "(array([  276.,   636.,  1394.,  2820.,  5339.,  9420., 15551., 23546.,\n",
              "        31319., 34857., 33790., 29786., 24391., 19028., 14894., 11324.,\n",
              "         8815.,  7159.,  5908.,  4896.,  4130.,  3630.,  3139.,  2782.,\n",
              "         2455.,  2179.,  1973.,  1805.,  1646.,  1454.,  1360.,  1286.,\n",
              "         1167.,  1013.,   945.,  1000.]),\n",
              " array([-60., -55., -50., -45., -40., -35., -30., -25., -20., -15., -10.,\n",
              "         -5.,   0.,   5.,  10.,  15.,  20.,  25.,  30.,  35.,  40.,  45.,\n",
              "         50.,  55.,  60.,  65.,  70.,  75.,  80.,  85.,  90.,  95., 100.,\n",
              "        105., 110., 115., 120.]),\n",
              " <a list of 36 Patch objects>)"
            ]
          },
          "metadata": {
            "tags": []
          },
          "execution_count": 11
        },
        {
          "output_type": "display_data",
          "data": {
            "image/png": "[encoded data removed]",
            "text/plain": [
              "<Figure size 576x396 with 1 Axes>"
            ]
          },
          "metadata": {
            "tags": []
          }
        }
      ]
    },
    {
      "metadata": {
        "id": "6PrGhXsSIhOu",
        "colab_type": "code",
        "colab": {
          "base_uri": "https://localhost:8080/",
          "height": 444
        },
        "outputId": "8838d65f-fa98-42d5-d63d-d1cab9a06b3e"
      },
      "cell_type": "code",
      "source": [
        "sns.distplot(dataset['arr_delay'],norm_hist = True,kde = False,color = 'darkblue',bins = int(180/5),hist_kws={'edgecolor':'white'} )\n",
        "plt.title('Histogram of arrival delays')\n",
        "plt.xlabel('Delay(min)')\n",
        "plt.ylabel('Flights')"
      ],
      "execution_count": 30,
      "outputs": [
        {
          "output_type": "stream",
          "text": [
            "/usr/local/lib/python3.6/dist-packages/matplotlib/axes/_axes.py:6521: MatplotlibDeprecationWarning: \n",
            "The 'normed' kwarg was deprecated in Matplotlib 2.1 and will be removed in 3.1. Use 'density' instead.\n",
            "  alternative=\"'density'\", removal=\"3.1\")\n"
          ],
          "name": "stderr"
        },
        {
          "output_type": "execute_result",
          "data": {
            "text/plain": [
              "Text(0, 0.5, 'Flights')"
            ]
          },
          "metadata": {
            "tags": []
          },
          "execution_count": 30
        },
        {
          "output_type": "display_data",
          "data": {
            "image/png": "[encoded data removed]",
            "text/plain": [
              "<Figure size 576x396 with 1 Axes>"
            ]
          },
          "metadata": {
            "tags": []
          }
        }
      ]
    },
    {
      "metadata": {
        "id": "kZ0S9ayDIheY",
        "colab_type": "code",
        "colab": {}
      },
      "cell_type": "code",
      "source": [
        "\"\"# Make a separate list for each airline\n",
        "x1 = list(dataset[dataset['name'] == 'United Air Lines Inc.']['arr_delay'])\n",
        "x2 = list(dataset[dataset['name'] == 'JetBlue Airways']['arr_delay'])\n",
        "x3 = list(dataset[dataset['name'] == 'ExpressJet Airlines Inc.']['arr_delay'])\n",
        "x4 = list(dataset[dataset['name'] == 'Delta Air Lines Inc.']['arr_delay'])\n",
        "x5 = list(dataset[dataset['name'] == 'American Airlines Inc.']['arr_delay'])\n"
      ],
      "execution_count": 0,
      "outputs": []
    },
    {
      "metadata": {
        "id": "0bzkMtrrIho7",
        "colab_type": "code",
        "colab": {
          "base_uri": "https://localhost:8080/",
          "height": 444
        },
        "outputId": "a2c459cd-53da-4ace-8744-0301dd4e5855"
      },
      "cell_type": "code",
      "source": [
        "# Assign colors for each airline and the names\n",
        "colors = ['red','blue','orange','yellow','black']\n",
        "names = ['United Air Lines Inc.', 'JetBlue Airways', 'ExpressJet Airlines Inc.', 'Delta Air Lines Inc.', 'American Airlines Inc.']\n",
        "         \n",
        "# Make the histogram using a list of lists\n",
        "# Normalize the flights and assign colors and names\n",
        "plt.hist([x1, x2, x3, x4, x5], bins = int(180/15), normed=True,\n",
        "         color = colors, label=names)\n",
        "\n",
        "#Plot formatting\n",
        "plt.legend()\n",
        "plt.xlabel('Delay (min)')\n",
        "plt.ylabel('Normalized Flights')\n",
        "plt.title('Side-by-Side Histogram with Multiple Airlines')\n",
        "\n"
      ],
      "execution_count": 47,
      "outputs": [
        {
          "output_type": "stream",
          "text": [
            "/usr/local/lib/python3.6/dist-packages/matplotlib/axes/_axes.py:6521: MatplotlibDeprecationWarning: \n",
            "The 'normed' kwarg was deprecated in Matplotlib 2.1 and will be removed in 3.1. Use 'density' instead.\n",
            "  alternative=\"'density'\", removal=\"3.1\")\n"
          ],
          "name": "stderr"
        },
        {
          "output_type": "execute_result",
          "data": {
            "text/plain": [
              "Text(0.5, 1.0, 'Side-by-Side Histogram with Multiple Airlines')"
            ]
          },
          "metadata": {
            "tags": []
          },
          "execution_count": 47
        },
        {
          "output_type": "display_data",
          "data": {
            "image/png": "[encoded data removed]",
            "text/plain": [
              "<Figure size 576x396 with 1 Axes>"
            ]
          },
          "metadata": {
            "tags": []
          }
        }
      ]
    },
    {
      "metadata": {
        "id": "d0wyPNfrIhy7",
        "colab_type": "code",
        "colab": {}
      },
      "cell_type": "code",
      "source": [
        ""
      ],
      "execution_count": 0,
      "outputs": []
    }
  ]
}